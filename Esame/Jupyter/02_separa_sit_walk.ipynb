{
 "cells": [
  {
   "cell_type": "markdown",
   "metadata": {},
   "source": [
    "# Separazione Gesture Scenario \n",
    "\n",
    "Dallo script 01_unione_dataset viene generato il file JoinSensors.csv. Visto che il file è di 13gb ed è troppo oneroso elaborarlo, si è pensato di ridurlo di dimensione utilizzando la media delle righe.\n",
    "Di seguito viene separato in base al GestureScenario (sit, walk) in modo da facilitare l'elaborazione.\n",
    "\n"
   ]
  },
  {
   "cell_type": "code",
   "execution_count": null,
   "metadata": {},
   "outputs": [],
   "source": [
    "import os\n",
    "from os.path import join\n",
    "from os import path\n",
    "import pandas as pd"
   ]
  },
  {
   "cell_type": "markdown",
   "metadata": {},
   "source": [
    "Viene specificato il percorso della cartella principale contenente il file generato dallo script precedente \"JoinSensors.csv\" dove verranno generati \"JoinSensorsSit.csv\" e \"JoinSensorsWalk.csv\" contenenti rispettivamente i dati di sit e walk.\n"
   ]
  },
  {
   "cell_type": "code",
   "execution_count": null,
   "metadata": {},
   "outputs": [],
   "source": [
    "joinedFile = \"JoinSensors.csv\"\n",
    "mainPath = \"C:\\\\Users\\\\angel\\\\OneDrive\\\\Desktop\\\\progettoBiometria\\\\hmog_dataset\\\\public_dataset\"\n",
    "fileSit = \"JoinSensorsSit.csv\"\n",
    "fileWalk = \"JoinSensorsWalk.csv\"\n",
    "filePathJoin=join(mainPath,joinedFile)\n",
    "filePathSit=join(mainPath,fileSit)\n",
    "filePathWalk=join(mainPath,fileWalk)"
   ]
  },
  {
   "cell_type": "markdown",
   "metadata": {},
   "source": [
    "Nel caso i file di output siano già esistenti vengono cancellati.\n"
   ]
  },
  {
   "cell_type": "code",
   "execution_count": null,
   "metadata": {},
   "outputs": [],
   "source": [
    "if path.exists(filePathSit): os.remove(filePathSit)\n",
    "if path.exists(filePathWalk): os.remove(filePathWalk)\n"
   ]
  },
  {
   "cell_type": "markdown",
   "metadata": {},
   "source": [
    "Visto che Pandas carica i file in memoria RAM c'è stata la necessità di procedere ad un caricamento del file a blocchi. Chunksize rappresenta la taglia del blocco caricato.\n",
    "Le due variabili printHead servono a stabilire quando stampare i nomi delle colonne nei file di output.\n",
    "La variabile \"i\" viene usata per avere un feedback durante l'esecuzione dello script.\n"
   ]
  },
  {
   "cell_type": "code",
   "execution_count": null,
   "metadata": {},
   "outputs": [],
   "source": [
    "chunksize = 10 ** 5\n",
    "printHeadSit=True\n",
    "printHeadWalk=True\n",
    "i=0"
   ]
  },
  {
   "cell_type": "markdown",
   "metadata": {},
   "source": [
    "Nel for vengono iterati i blocchi del file. Per ogni blocco vengono divise le righe in base allo scenario e stampate nei rispettivi file.\n"
   ]
  },
  {
   "cell_type": "code",
   "execution_count": null,
   "metadata": {},
   "outputs": [],
   "source": [
    "\n",
    "for chunk in pd.read_csv(filePathJoin, chunksize=chunksize):\n",
    "    i+=1\n",
    "    sitData=chunk[chunk.GestureScenario==1]\n",
    "    walkData=chunk[chunk.GestureScenario==2]\n",
    "    if sitData.shape[0] > 0 :\n",
    "        sitData.to_csv(filePathSit, mode='a', header=printHeadSit, index=False)\n",
    "        printHeadSit=False\n",
    "    if walkData.shape[0] > 0 :\n",
    "        walkData.to_csv(filePathWalk, mode='a', header=printHeadWalk, index=False)\n",
    "        printHeadWalk=False\n",
    "    print(\"Chunk: \"+str(i) +\" - Sit: \"+ str(sitData.shape[0])+\" - Walk: \"+str(walkData.shape[0]))\n"
   ]
  },
  {
   "cell_type": "markdown",
   "metadata": {},
   "source": [
    "# ATTENZIONE\n",
    "L'esecuzione dello script richiede diverso tempo e genera due file di 5.7GB e di 6GB.\n",
    "\n"
   ]
  }
 ],
 "metadata": {
  "kernelspec": {
   "display_name": "Python 3",
   "language": "python",
   "name": "python3"
  },
  "language_info": {
   "codemirror_mode": {
    "name": "ipython",
    "version": 3
   },
   "file_extension": ".py",
   "mimetype": "text/x-python",
   "name": "python",
   "nbconvert_exporter": "python",
   "pygments_lexer": "ipython3",
   "version": "3.7.7"
  }
 },
 "nbformat": 4,
 "nbformat_minor": 4
}
