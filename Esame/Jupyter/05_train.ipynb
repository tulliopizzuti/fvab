{
 "cells": [
  {
   "cell_type": "markdown",
   "metadata": {},
   "source": [
    "# Addestramento MLP\n",
    "In questo script viene usato il file di output \"MeanSensors.csv\" ricavato dallo script 04_join_mean_sit_walk per addestrare una rete neurale MLP."
   ]
  },
  {
   "cell_type": "code",
   "execution_count": null,
   "metadata": {},
   "outputs": [],
   "source": [
    "import os\n",
    "from os.path import join\n",
    "from os import path\n",
    "import pandas as pd\n",
    "from sklearn.model_selection import train_test_split\n",
    "from sklearn.preprocessing import StandardScaler\n",
    "from sklearn.neural_network import MLPClassifier\n",
    "from sklearn.model_selection import GridSearchCV\n",
    "import numpy as np\n",
    "from sklearn.metrics import classification_report"
   ]
  },
  {
   "cell_type": "markdown",
   "metadata": {},
   "source": [
    "Viene specificato il file e caricato tramite pandas."
   ]
  },
  {
   "cell_type": "code",
   "execution_count": null,
   "metadata": {},
   "outputs": [],
   "source": [
    "mainPath = \"/home/tullio/Projects/fvab_dataset/2\"\n",
    "fileMeanSensors = \"MeanSensors.csv\"\n",
    "filePathMeanSensors = join(mainPath, fileMeanSensors)\n",
    "sensors = pd.read_csv(filePathMeanSensors)"
   ]
  },
  {
   "cell_type": "markdown",
   "metadata": {},
   "source": [
    "Vengono divisi i dati (X) dalle etichette (y) e standardizzati tramite StandardScaler."
   ]
  },
  {
   "cell_type": "code",
   "execution_count": null,
   "metadata": {},
   "outputs": [],
   "source": [
    "y = sensors[\"GestureScenario\"]\n",
    "X = sensors[[\"XAcc\", \"YAcc\", \"ZAcc\", \"XGyro\", \"YGyro\", \"ZGyro\", \"XMagn\", \"YMagn\", \"ZMagn\"]]\n",
    "scaler = StandardScaler()\n",
    "X = scaler.fit_transform(X)"
   ]
  },
  {
   "cell_type": "markdown",
   "metadata": {},
   "source": [
    "Viene istanziata la rete neurale MLPClassifier inizializzando la randomizzazione dei pesi iniziali con 'random_state=0' e impostando il numero massimo di iterazione per il raggiungimento della convergenza a 300."
   ]
  },
  {
   "cell_type": "code",
   "execution_count": null,
   "metadata": {},
   "outputs": [],
   "source": [
    "mlp = MLPClassifier(\n",
    "    random_state=0, max_iter=300, verbose=True)"
   ]
  },
  {
   "cell_type": "markdown",
   "metadata": {},
   "source": [
    "Attraverso GridSearchCV viene testata la rete con diversi tipi di parametri come le funzioni di attivazione, in tasso di apprendimento ecc...\n",
    "\n",
    "Viene istanziato il GridSearchCV:\n",
    "<ul>\n",
    "    <li>n_jobs=-1 indica l'utilizzo di tutti i processori in parallelo per l'addestramento</li>\n",
    "    <li>cv=3 indica una cross validation con 3 blocchi</li>\n",
    "</ul>\n",
    "\n",
    "Dopo aver provato tutte le combianazioni, vengono stampati i parametri che hanno ottenuto il risultato migliore."
   ]
  },
  {
   "cell_type": "code",
   "execution_count": null,
   "metadata": {},
   "outputs": [],
   "source": [
    "parameter_space = {\n",
    "\n",
    "    'hidden_layer_sizes': [(100, 1), (100, 2), (100, 3)],\n",
    "    'alpha': [0.0001, 0.05],\n",
    "    'activation': [\"logistic\", \"relu\", \"Tanh\"],\n",
    "    'learning_rate': ['constant', 'adaptive', 'invscaling'],\n",
    "    'learning_rate_init': [0.001, 0.0001, 0.01],\n",
    "    'tol': [1e-4, 1e-3, 1e-5]\n",
    "}\n",
    "clf = GridSearchCV(mlp, parameter_space, n_jobs=-1, cv=3, verbose=True)\n",
    "clf.fit(X, y)\n",
    "print('Best parameters found:\\n', clf.best_params_)"
   ]
  },
  {
   "cell_type": "markdown",
   "metadata": {},
   "source": [
    "Vengono stampati i risultati"
   ]
  },
  {
   "cell_type": "code",
   "execution_count": null,
   "metadata": {},
   "outputs": [],
   "source": [
    "means = clf.cv_results_['mean_test_score']\n",
    "stds = clf.cv_results_['std_test_score']\n",
    "for mean, std, params in zip(means, stds, clf.cv_results_['params']):\n",
    "    print(\"%0.3f (+/-%0.03f) for %r\" % (mean, std * 2, params))"
   ]
  },
  {
   "cell_type": "markdown",
   "metadata": {},
   "source": [
    "Per semplicità di seguito è mostrato l'output:\n",
    "\n",
    "\n",
    "\n",
    "\n",
    "\n",
    "\n"
   ]
  }
 ],
 "metadata": {
  "kernelspec": {
   "display_name": "Python 3",
   "language": "python",
   "name": "python3"
  },
  "language_info": {
   "codemirror_mode": {
    "name": "ipython",
    "version": 3
   },
   "file_extension": ".py",
   "mimetype": "text/x-python",
   "name": "python",
   "nbconvert_exporter": "python",
   "pygments_lexer": "ipython3",
   "version": "3.7.7"
  }
 },
 "nbformat": 4,
 "nbformat_minor": 4
}
