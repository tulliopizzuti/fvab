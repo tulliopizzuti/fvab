{
 "cells": [
  {
   "cell_type": "markdown",
   "metadata": {},
   "source": [
    "# TABELLE"
   ]
  },
  {
   "cell_type": "markdown",
   "metadata": {},
   "source": [
    "Di seguito è rappresentata la tabella con i diversi valori dell'addestramento della rete: "
   ]
  },
  {
   "cell_type": "markdown",
   "metadata": {},
   "source": [
    " <table>\n",
    "    <tr><td><b>Alpha</b></td><td>0,0001</td><td>0,05</td><td>-</td></tr>\n",
    "    <tr><td><b>Activation</b></td><td>Relu</td><td>Tanh</td><td>Logistic</td></tr>\n",
    "    <tr><td><b>Learning_rate</b></td><td>Constant</td><td>Adaptive</td><td>Invscaling</td></tr>\n",
    "    <tr><td><b>Learning_rate_init</b></td><td>0,01</td><td>0,001</td><td>0,0001</td></tr>\n",
    "    <tr><td><b>Tol</b></td><td>0,001</td><td>0,0001</td><td>0,00001</td></tr>\n",
    "</table>\n",
    "\n"
   ]
  },
  {
   "cell_type": "markdown",
   "metadata": {},
   "source": [
    "Di seguito è rappresentata la tabella con l'accuratezza massima del 93% che si è avuta utilizzando la media di 100 valori: "
   ]
  },
  {
   "cell_type": "markdown",
   "metadata": {},
   "source": [
    " <table>\n",
    "    <tr><td><b>Max Accuracy</b><td><b>Activation</b></td><td><b>Alpha</b></td><td><b>Learning_rate</b></td><td><b>Learning_rate_init</b></td><td><b>Tol</b></tr>\n",
    "    <tr><td>0,93</td><td>logistic</td><td>0,0001</td><td>constant</td><td>0,001</td><td>1E-05</td></tr>\n",
    "    <tr><td>0,93</td><td>logistic</td><td>0,0001</td><td>adaptive</td><td>0,001</td><td>1E-05</td></tr>\n",
    "    <tr><td>0,93</td><td>logistic</td><td>0,0001</td><td>invscaling</td><td>0,001</td><td>1E-05</td></tr>\n",
    "    <tr><td>0,93</td><td>tanh</td><td>0,0001</td><td>constant</td><td>0,001</td><td>1E-05</td></tr>\n",
    "    <tr><td>0,93</td><td>tanh</td><td>0,0001</td><td>adaptive</td><td>0,001</td><td>1E-05</td></tr>\n",
    "    <tr><td>0,93</td><td>tanh</td><td>0,0001</td><td>invscaling</td><td>0,001</td><td>1E-05</td></tr>\n",
    "</table>"
   ]
  }
 ],
 "metadata": {
  "kernelspec": {
   "display_name": "Python 3",
   "language": "python",
   "name": "python3"
  },
  "language_info": {
   "codemirror_mode": {
    "name": "ipython",
    "version": 3
   },
   "file_extension": ".py",
   "mimetype": "text/x-python",
   "name": "python",
   "nbconvert_exporter": "python",
   "pygments_lexer": "ipython3",
   "version": "3.7.6"
  }
 },
 "nbformat": 4,
 "nbformat_minor": 4
}
