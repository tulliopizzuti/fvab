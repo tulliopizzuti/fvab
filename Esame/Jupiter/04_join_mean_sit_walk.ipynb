{
 "cells": [
  {
   "cell_type": "markdown",
   "metadata": {},
   "source": [
    "# Unione GestureScenario con la media di Sit e Walk\n",
    "Dallo script precedente 03_mean_sit_walk sono stati generati i file \"MeanSensorSit.csv\" e \"MeanSensorWalk.csv\" contenenti le medie dei valori sit e walk. Di seguito viene fatta l'unione dei due file, in un unico file \"MeanSensors.csv\".\n"
   ]
  },
  {
   "cell_type": "code",
   "execution_count": null,
   "metadata": {},
   "outputs": [],
   "source": [
    "import os\n",
    "from os.path import join\n",
    "from os import path\n",
    "import pandas as pd\n",
    "from sklearn.utils import shuffle"
   ]
  },
  {
   "cell_type": "markdown",
   "metadata": {},
   "source": [
    "Viene specificato il percorso della cartella principale contenenti i file generati dallo script precedente \"MeanSensorsSit.csv\" e \"MeanSensorsWalk.csv\" e il file di output \"MeanSensors.csv\".\n"
   ]
  },
  {
   "cell_type": "code",
   "execution_count": null,
   "metadata": {},
   "outputs": [],
   "source": [
    "mainPath = \"C:\\\\Users\\\\angel\\\\OneDrive\\\\Desktop\\\\progettoBiometria\\\\hmog_dataset\\\\public_dataset\"\n",
    "fileMeanSensors = \"MeanSensors.csv\"\n",
    "filePathMeanSensors=join(mainPath,fileMeanSensors)\n",
    "fileMeanSit = \"MeanSensorsSit.csv\"\n",
    "filePathMeanSit=join(mainPath,fileMeanSit)\n",
    "fileMeanWalk = \"MeanSensorsWalk.csv\"\n",
    "filePathMeanWalk=join(mainPath,fileMeanWalk)"
   ]
  },
  {
   "cell_type": "markdown",
   "metadata": {},
   "source": [
    "Se il file di output è già esistente vengono cancellato."
   ]
  },
  {
   "cell_type": "code",
   "execution_count": null,
   "metadata": {},
   "outputs": [],
   "source": [
    "if path.exists(filePathMeanSensors): os.remove(filePathMeanSensors)"
   ]
  },
  {
   "cell_type": "markdown",
   "metadata": {},
   "source": [
    "Con read_csv vengono letti i file CSV (dataframe) \"MeanSensorsSit.csv\" e \"MeanSensorWalk.csv\".\n"
   ]
  },
  {
   "cell_type": "code",
   "execution_count": null,
   "metadata": {},
   "outputs": [],
   "source": [
    "meanSitCsv=pd.read_csv(filePathMeanSit)\n",
    "meanWalkCsv=pd.read_csv(filePathMeanWalk)"
   ]
  },
  {
   "cell_type": "markdown",
   "metadata": {},
   "source": [
    "Viene fatta la concatenazione dei file \"MeanSensorsSit.csv\" e \"MeanSensorsWalk.csv\" poi vengono mischiati in modo casuale con shuffle. Il risultato viene salvato in \"MeanSensors.csv\".\n"
   ]
  },
  {
   "cell_type": "code",
   "execution_count": null,
   "metadata": {},
   "outputs": [],
   "source": [
    "frames = [meanSitCsv, meanWalkCsv]\n",
    "meanSensors=pd.concat(frames, ignore_index=True)\n",
    "meanSensors=shuffle(meanSensors, random_state=0)\n",
    "meanSensors.to_csv(filePathMeanSensors, header=True, index=False)"
   ]
  }
 ],
 "metadata": {
  "kernelspec": {
   "display_name": "Python 3",
   "language": "python",
   "name": "python3"
  },
  "language_info": {
   "codemirror_mode": {
    "name": "ipython",
    "version": 3
   },
   "file_extension": ".py",
   "mimetype": "text/x-python",
   "name": "python",
   "nbconvert_exporter": "python",
   "pygments_lexer": "ipython3",
   "version": "3.7.6"
  }
 },
 "nbformat": 4,
 "nbformat_minor": 4
}
