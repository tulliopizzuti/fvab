{
 "cells": [
  {
   "cell_type": "markdown",
   "metadata": {},
   "source": [
    "# Unione dati sensori HMOG\n",
    "\n",
    "Il dataset HMOG è formato da 100 cartelle rappresentanti gli utenti. Per ogni utente, troviamo 24 sessioni di acquisizione dati suddivise in diversi file. \n",
    "Andiamo ora ad unire i file contenenti i dati di Accelerometro, Giroscopio e Magnetometro di ogni sessione.\n",
    "\n",
    "Si inizia con l'importazione delle librerie."
   ]
  },
  {
   "cell_type": "code",
   "execution_count": null,
   "metadata": {},
   "outputs": [],
   "source": [
    "import os\n",
    "from os.path import isdir, join\n",
    "from os import listdir, path\n",
    "import pandas as pd"
   ]
  },
  {
   "cell_type": "markdown",
   "metadata": {},
   "source": [
    "La funzione di seguito serve a controllare che dopo l'unione dei file dei sensori, ogni riga contenga gli stessi dati di IdAttività, GestureScenario e PhoneOrientation"
   ]
  },
  {
   "cell_type": "code",
   "execution_count": null,
   "metadata": {},
   "outputs": [],
   "source": [
    "def filterRowActivityScenarioOrientation(row):\n",
    "    return (row[\"ActivityIDAcc\"] == row[\"ActivityIDGyro\"] == row[\"ActivityIDMagn\"] and\n",
    "            row[\"GestureScenarioAcc\"] == row[\"GestureScenarioGyro\"] == row[\"GestureScenarioMagn\"] and\n",
    "            row[\"PhoneOrientationAcc\"] == row[\"PhoneOrientationGyro\"] == row[\"PhoneOrientationMagn\"])"
   ]
  },
  {
   "cell_type": "markdown",
   "metadata": {},
   "source": [
    "Impostiamo il numero di cartelle che vogliamo prendere in considerazione e calcoliamo il totale di sessioni da analizzare in modo da avere un feedback durante l'esecuzione"
   ]
  },
  {
   "cell_type": "code",
   "execution_count": null,
   "metadata": {},
   "outputs": [],
   "source": [
    "firstNFolder = 100\n",
    "total=firstNFolder*24"
   ]
  },
  {
   "cell_type": "markdown",
   "metadata": {},
   "source": [
    "Vengono dichiarati i nomi delle colonne per i vari file csv da analizzare:\n",
    "<ul>\n",
    "    <li>Activity.csv: contiene i dati per identificare il tipo di acquisizione (GestureScenario, TaskId, ecc...)</li>\n",
    "    <li>Acceletometer.csv: contiene i dati rilevati dal sensore dell'accelerometro durante le acquisizioni</li>\n",
    "    <li>Gyroscope.csv: contiene i dati rilevati dal sensore del giroscopio durante le acquisizioni</li>\n",
    "    <li>Magnetometer.csv: contiene i dati rilevati dal sensore magnetometro durante le acquisizioni</li>\n",
    "</ul>"
   ]
  },
  {
   "cell_type": "code",
   "execution_count": null,
   "metadata": {},
   "outputs": [],
   "source": [
    "activityColumns = [\"ActivityID\", \"SubjectID\", \"SessionNumber\", \"StartTime\", \"EndTime\", \"RelativeStartTime\",\n",
    "                   \"RelativeEndTime\", \"GestureScenario\", \"TaskID\", \"ContentID\"]\n",
    "columnExtractAcc = [\"ActivityIDAcc\", \"SubjectIDAcc\", \"SysTimeAcc\", \"GestureScenarioAcc\", \"XAcc\", \"YAcc\", \"ZAcc\",\n",
    "                    \"PhoneOrientationAcc\"]\n",
    "columnExtractGyro = [\"ActivityIDGyro\", \"SubjectIDGyro\", \"SysTimeGyro\", \"GestureScenarioGyro\", \"XGyro\", \"YGyro\", \"ZGyro\",\n",
    "                     \"PhoneOrientationGyro\"]\n",
    "columnExtractMagn = [\"ActivityIDMagn\", \"SubjectIDMagn\", \"SysTimeMagn\", \"GestureScenarioMagn\", \"XMagn\", \"YMagn\", \"ZMagn\",\n",
    "                     \"PhoneOrientationMagn\"]"
   ]
  },
  {
   "cell_type": "markdown",
   "metadata": {},
   "source": [
    "Da notare che i file dei sensori hanno le stesse colonne. Viene utilizzato l'array sensorsColumns per identificarle durante il caricamento. Per il join tra i tre file vengono però rinominati per identificarli univocamente.\n",
    "columnExtract viene utilizzato per estrarre le colonne del join tra Activity.csv e uno dei sensori."
   ]
  },
  {
   "cell_type": "code",
   "execution_count": null,
   "metadata": {},
   "outputs": [],
   "source": [
    "sensorsColumns = [\"SysTime\", \"EventTime\", \"ActivityID\", \"X\", \"Y\", \"Z\", \"PhoneOrientation\"]\n",
    "columnExtract = [\"ActivityID\", \"SubjectID\", \"SysTime\", \"GestureScenario\", \"X\", \"Y\", \"Z\", \"PhoneOrientation\"]"
   ]
  },
  {
   "cell_type": "markdown",
   "metadata": {},
   "source": [
    "Viene dichiarata la cartella contenente i file e i nomi dei vari file utilizzati. \n",
    "joinedFile sarà l'output file dello script.\n",
    "Nel caso in cui il file sia già presente nella cartella viene eliminato."
   ]
  },
  {
   "cell_type": "code",
   "execution_count": null,
   "metadata": {},
   "outputs": [],
   "source": [
    "mainPath = \"/home/tullio/Projects/fvab_dataset/public_dataset\"\n",
    "joinedFile = \"JoinSensors.csv\"\n",
    "accelerometerName = \"Accelerometer.csv\"\n",
    "gyroscopeName = \"Gyroscope.csv\"\n",
    "magnetometerName = \"Magnetometer.csv\"\n",
    "joinedFilePath = join(mainPath, joinedFile)\n",
    "if path.exists(joinedFilePath): os.remove(joinedFilePath)"
   ]
  },
  {
   "cell_type": "markdown",
   "metadata": {},
   "source": [
    "Si vanno ad identificare le cartelle degli utenti nella directory\n",
    "printHead è una variabile che indica quanto stampare i nomi di colonne nel csv di output."
   ]
  },
  {
   "cell_type": "code",
   "execution_count": null,
   "metadata": {},
   "outputs": [],
   "source": [
    "subjectDirectories = [f for f in listdir(mainPath) if isdir(join(mainPath, f))]\n",
    "subjectDirectories.sort()\n",
    "printHead = True"
   ]
  },
  {
   "cell_type": "markdown",
   "metadata": {},
   "source": [
    "Vengono scansionate e rinominate le cartelle delle sessioni in modo da mantenere un'ordinamento letterale."
   ]
  },
  {
   "cell_type": "code",
   "execution_count": null,
   "metadata": {},
   "outputs": [],
   "source": [
    "for dir in subjectDirectories:\n",
    "    subjectDirectory = join(mainPath, dir)\n",
    "    sessionDirectories = [f for f in listdir(subjectDirectory) if isdir(join(subjectDirectory, f))]\n",
    "    for sessionDirectory in sessionDirectories:\n",
    "        splitted = sessionDirectory.split('_')\n",
    "        splitted[2] = splitted[2].rjust(2, '0')\n",
    "        newName = ('_'.join(splitted))\n",
    "        os.rename(join(subjectDirectory, sessionDirectory), join(subjectDirectory, newName))"
   ]
  },
  {
   "cell_type": "markdown",
   "metadata": {},
   "source": [
    "Vengono quindi scansionati i file di ogni sessione (for interno). \n",
    "Viene effettuato il join tra il file ActivityCsv e i file dei sensori.\n",
    "Viene identificato il join con il minor numero di righe e vengono tagliati gli altri.\n",
    "Viene poi eseguita la funzione \"filterRowActivityScenarioOrientation\" su ogni riga per controllare che i valori di AcitivityId, GestureScenario e PhoneOrientation siano gli stessi per ogni riga.\n",
    "Il risultato viene inserito nel file risultante."
   ]
  },
  {
   "cell_type": "code",
   "execution_count": null,
   "metadata": {},
   "outputs": [],
   "source": [
    "for dir in subjectDirectories:\n",
    "    if (firstNFolder <= 0):\n",
    "        break\n",
    "    firstNFolder -= 1\n",
    "    subjectDirectory = join(mainPath, dir)\n",
    "    sessionDirectories = [f for f in listdir(subjectDirectory) if isdir(join(subjectDirectory, f))]\n",
    "    sessionDirectories.sort()\n",
    "    for sessionDirectory in sessionDirectories:\n",
    "        path = join(subjectDirectory, sessionDirectory)\n",
    "        accelerometerFile = join(path, accelerometerName)\n",
    "        gyroscopeFile = join(path, gyroscopeName)\n",
    "        magnetometerFile = join(path, magnetometerName)\n",
    "        activityCsv = pd.read_csv(join(path, activityName), header=None, names=activityColumns)\n",
    "        accelerometerCsv = pd.read_csv(accelerometerFile, header=None, names=sensorsColumns)\n",
    "        gyroscopeCsv = pd.read_csv(gyroscopeFile, header=None, names=sensorsColumns)\n",
    "        magnetometerCsv = pd.read_csv(magnetometerFile, header=None, names=sensorsColumns)\n",
    "        joined = accelerometerCsv.merge(activityCsv, on=\"ActivityID\")\n",
    "        dfAcc = joined[columnExtract]\n",
    "        dfAcc.columns = columnExtractAcc\n",
    "        joined = gyroscopeCsv.merge(activityCsv, on=\"ActivityID\")\n",
    "        dfGyro = joined[columnExtract]\n",
    "        dfGyro.columns = columnExtractGyro\n",
    "        joined = magnetometerCsv.merge(activityCsv, on=\"ActivityID\")\n",
    "        dfMagn = joined[columnExtract]\n",
    "        dfMagn.columns = columnExtractMagn\n",
    "        maxLen = min(dfAcc.shape[0], dfGyro.shape[0], dfMagn.shape[0])\n",
    "        result = pd.concat([dfAcc.head(maxLen), dfGyro.head(maxLen), dfMagn.head(maxLen)], axis=1, sort=False)\n",
    "        result = result[result.apply(filterRowActivityScenarioOrientation, axis=1)]\n",
    "        result = result[[\n",
    "            \"GestureScenarioAcc\",\n",
    "            \"XAcc\", \"YAcc\", \"ZAcc\",\n",
    "            \"XGyro\", \"YGyro\", \"ZGyro\",\n",
    "            \"XMagn\", \"YMagn\", \"ZMagn\"]]\n",
    "        result.columns = [\n",
    "            \"GestureScenario\",\n",
    "            \"XAcc\", \"YAcc\", \"ZAcc\",\n",
    "            \"XGyro\", \"YGyro\", \"ZGyro\",\n",
    "            \"XMagn\", \"YMagn\", \"ZMagn\"]\n",
    "        result.to_csv(joinedFilePath, mode='a', header=printHead, index=False)\n",
    "        printHead = False\n",
    "        total-=1\n",
    "        print(total)"
   ]
  },
  {
   "cell_type": "markdown",
   "metadata": {},
   "source": [
    "# Attenzione\n",
    "L'esecuzione dello script richiede diverso tempo e produce in output un file di circa 13GB"
   ]
  },
  {
   "cell_type": "code",
   "execution_count": null,
   "metadata": {},
   "outputs": [],
   "source": []
  }
 ],
 "metadata": {
  "kernelspec": {
   "display_name": "Python 3",
   "language": "python",
   "name": "python3"
  },
  "language_info": {
   "codemirror_mode": {
    "name": "ipython",
    "version": 3
   },
   "file_extension": ".py",
   "mimetype": "text/x-python",
   "name": "python",
   "nbconvert_exporter": "python",
   "pygments_lexer": "ipython3",
   "version": "3.7.7"
  }
 },
 "nbformat": 4,
 "nbformat_minor": 4
}
