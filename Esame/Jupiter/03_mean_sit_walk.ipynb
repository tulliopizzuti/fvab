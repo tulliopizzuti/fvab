{
 "cells": [
  {
   "cell_type": "markdown",
   "metadata": {},
   "source": [
    "# Media sti walk\n",
    "Dallo script 02_separa_sit_walk vengono generati i file \"JoinSensorsSit.csv\" e \"JoinSensorsWalk.csv\". Di seguito vengono creati i file \"MeanSensorsSit.csv\" e \"MeanSensorsWalk.csv\" che contengono la media dei 2 scenari. \n"
   ]
  },
  {
   "cell_type": "code",
   "execution_count": null,
   "metadata": {},
   "outputs": [],
   "source": [
    "import os\n",
    "from os.path import join\n",
    "from os import path\n",
    "import pandas as pd\n"
   ]
  },
  {
   "cell_type": "markdown",
   "metadata": {},
   "source": [
    "Viene dichiararto il percorso della cartella principale contenente il file generato dallo script precedente \"JoinSensorsSit.csv\" e  \"JoinSensorsWalk.csv\" e vengono generati i file delle medie \"MeanSensorsSit.csv\" e \"MeanSensorsWalk.csv\".\n"
   ]
  },
  {
   "cell_type": "code",
   "execution_count": null,
   "metadata": {},
   "outputs": [],
   "source": [
    "mainPath = \"D:\\public_dataset\"\n",
    "\n",
    "joinedFile = \"JoinSensors.csv\"\n",
    "filePathJoin=join(mainPath,joinedFile)\n",
    "\n",
    "fileSit = \"JoinSensorsSit.csv\"\n",
    "filePathSit=join(mainPath,fileSit)\n",
    "\n",
    "\n",
    "fileWalk = \"JoinSensorsWalk.csv\"\n",
    "filePathWalk=join(mainPath,fileWalk)\n",
    "\n",
    "\n",
    "fileMeanSit = \"MeanSensorsSit.csv\"\n",
    "filePathMeanSit=join(mainPath,fileMeanSit)\n",
    "\n",
    "\n",
    "fileMeanWalk = \"MeanSensorsWalk.csv\"\n",
    "filePathMeanWalk=join(mainPath,fileMeanWalk)\n"
   ]
  },
  {
   "cell_type": "markdown",
   "metadata": {},
   "source": [
    "Nel caso i file di output sono già esistenti vengono cancellati.\n"
   ]
  },
  {
   "cell_type": "code",
   "execution_count": null,
   "metadata": {},
   "outputs": [],
   "source": [
    "if path.exists(filePathMeanSit): os.remove(filePathMeanSit)\n",
    "if path.exists(filePathMeanWalk): os.remove(filePathMeanWalk)\n"
   ]
  },
  {
   "cell_type": "markdown",
   "metadata": {},
   "source": [
    "Visto che Pandas carica i file in memoria RAM c'è stata la necessità di procedere ad un caricamento del file a blocchi. Chunksize rappresenta la taglia del blocco caricato. Le due variabili printHead servono a stabilire quando stampare i nomi delle colonne nei file di output. La variabile i viene usata per avere un feedback durante l'esecuzione dello script."
   ]
  },
  {
   "cell_type": "code",
   "execution_count": null,
   "metadata": {},
   "outputs": [],
   "source": [
    "chunksize = 10 ** 3\n",
    "printHeadSit=True\n",
    "printHeadWalk=True\n",
    "i=0"
   ]
  },
  {
   "cell_type": "markdown",
   "metadata": {},
   "source": [
    "Nel for vengono iterati i blocchi dei file. Per ogni blocco viene fatta la media dei valori di sit e vengono inseriti i valori in un dataframe ed in fine viene fatta la trasposta. Viene stampata la media di sit in \"MeanSensorsSit.csv\".\n"
   ]
  },
  {
   "cell_type": "code",
   "execution_count": null,
   "metadata": {},
   "outputs": [],
   "source": [
    "for chunk in pd.read_csv(filePathSit, chunksize=chunksize):\n",
    "    i+=1\n",
    "    df=(chunk.mean().to_frame().transpose())\n",
    "    df.to_csv(filePathMeanSit, mode='a', header=printHeadSit, index=False)\n",
    "    printHeadSit=False\n",
    "    print(\"Sit chunk: \"+str(i))\n"
   ]
  },
  {
   "cell_type": "markdown",
   "metadata": {},
   "source": [
    "Nel for vengono iterati i blocchi dei file. Per ogni blocco viene fatta la media dei valori di walk e vengono inseriti i valori in un dataframe ed in fine viene fatta la trasposta. Viene stampata la media di walk in \"MeanSensorsWalk.csv\"."
   ]
  },
  {
   "cell_type": "code",
   "execution_count": null,
   "metadata": {},
   "outputs": [],
   "source": [
    "i=0\n",
    "for chunk in pd.read_csv(filePathWalk, chunksize=chunksize):\n",
    "    i+=1\n",
    "    df=(chunk.mean().to_frame().transpose())\n",
    "    df.to_csv(filePathMeanWalk, mode='a', header=printHeadWalk, index=False)\n",
    "    printHeadWalk=False\n",
    "    print(\"Walk chunk: \"+str(i))\n",
    "    "
   ]
  },
  {
   "cell_type": "markdown",
   "metadata": {},
   "source": [
    "# ATTENZIONE\n",
    "L'esecuzione dello script richiede diverso tempo e genera due file di \"\" e di \"\""
   ]
  },
  {
   "cell_type": "code",
   "execution_count": null,
   "metadata": {},
   "outputs": [],
   "source": []
  }
 ],
 "metadata": {
  "kernelspec": {
   "display_name": "Python 3",
   "language": "python",
   "name": "python3"
  },
  "language_info": {
   "codemirror_mode": {
    "name": "ipython",
    "version": 3
   },
   "file_extension": ".py",
   "mimetype": "text/x-python",
   "name": "python",
   "nbconvert_exporter": "python",
   "pygments_lexer": "ipython3",
   "version": "3.7.6"
  }
 },
 "nbformat": 4,
 "nbformat_minor": 4
}
